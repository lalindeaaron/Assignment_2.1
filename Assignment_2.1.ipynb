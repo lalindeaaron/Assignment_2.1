{
 "cells": [
  {
   "cell_type": "code",
   "execution_count": 2,
   "metadata": {},
   "outputs": [
    {
     "name": "stdout",
     "output_type": "stream",
     "text": [
      "input numbers seperated by commas4,55,8,47,23,9,44,5\n",
      "['4', '55', '8', '47', '23', '9', '44', '5']\n"
     ]
    }
   ],
   "source": [
    "#input of numbers \n",
    "console_values = input('input numbers seperated by commas')\n",
    "#list of the input will be created using a \"split\" in order to seperate them with a comma\n",
    "list = console_values.split(\",\")\n",
    "print (list)"
   ]
  }
 ],
 "metadata": {
  "kernelspec": {
   "display_name": "Python 3",
   "language": "python",
   "name": "python3"
  },
  "language_info": {
   "codemirror_mode": {
    "name": "ipython",
    "version": 3
   },
   "file_extension": ".py",
   "mimetype": "text/x-python",
   "name": "python",
   "nbconvert_exporter": "python",
   "pygments_lexer": "ipython3",
   "version": "3.6.4"
  }
 },
 "nbformat": 4,
 "nbformat_minor": 2
}
